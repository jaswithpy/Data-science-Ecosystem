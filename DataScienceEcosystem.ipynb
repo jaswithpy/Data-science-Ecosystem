{
 "cells": [
  {
   "cell_type": "markdown",
   "id": "a734c93e",
   "metadata": {},
   "source": [
    "<h1>Data Science Tools and Ecosystem</h1>"
   ]
  },
  {
   "cell_type": "markdown",
   "id": "95d10047",
   "metadata": {},
   "source": [
    "## In this notebook, Data Science Tools and Ecosystem are summarized.\n"
   ]
  },
  {
   "cell_type": "markdown",
   "id": "b5886859",
   "metadata": {},
   "source": [
    "### Some of the popular languages that Data Scientists use are:"
   ]
  },
  {
   "cell_type": "markdown",
   "id": "7426c6a2",
   "metadata": {},
   "source": [
    "1. Python\n",
    "2. SQL\n",
    "3. R"
   ]
  },
  {
   "cell_type": "markdown",
   "id": "94d9ff5b",
   "metadata": {},
   "source": [
    "### Some of the commonly used libraries used by Data Scientists include:"
   ]
  },
  {
   "cell_type": "markdown",
   "id": "ccbf7a5b",
   "metadata": {},
   "source": [
    "1. TensorFlow.\n",
    "2. NumPy.\n",
    "3. SciPy.\n",
    "4. Pandas.\n",
    "5. Matplotlib.\n",
    "6. Keras.\n",
    "7. SciKit-Learn.\n",
    "8. PyTorch."
   ]
  },
  {
   "cell_type": "markdown",
   "id": "a212b5d3",
   "metadata": {},
   "source": [
    "| Data Science Tools |\n",
    "|:-----------:|\n",
    "| Jupyter Notebooks  |\n",
    "| Rstudio |\n",
    "|Hadoop |"
   ]
  },
  {
   "cell_type": "markdown",
   "id": "b3d27d8f",
   "metadata": {},
   "source": [
    "<h3>Below are a few examples of evaluating arithmetic expressions in Python</h3>\n"
   ]
  },
  {
   "cell_type": "code",
   "execution_count": 1,
   "id": "d6456ec9",
   "metadata": {},
   "outputs": [
    {
     "data": {
      "text/plain": [
       "17"
      ]
     },
     "execution_count": 1,
     "metadata": {},
     "output_type": "execute_result"
    }
   ],
   "source": [
    "# This a simple arithmetic expression to mutiply then add integers.\n",
    "(3*4)+5"
   ]
  },
  {
   "cell_type": "code",
   "execution_count": 3,
   "id": "cd113ec0",
   "metadata": {},
   "outputs": [
    {
     "name": "stdout",
     "output_type": "stream",
     "text": [
      "200 minutes is 3.3333333333333335hours\n"
     ]
    }
   ],
   "source": [
    "#This will convert 200 minutes to hours by diving by 60\n",
    "print(f\"200 minutes is {200/60 }hours\")"
   ]
  },
  {
   "cell_type": "markdown",
   "id": "f284f5e7",
   "metadata": {},
   "source": [
    "**Objectives:**\n",
    "- List popular languages for Data Science\n",
    "- Commonly used libraries used by Data Scientists\n",
    "- Examples of evaluating arithmetic expressions\n",
    "\n"
   ]
  },
  {
   "cell_type": "markdown",
   "id": "55ccd489",
   "metadata": {},
   "source": [
    "## Author\n",
    "Jasna Nattukallingal"
   ]
  },
  {
   "cell_type": "code",
   "execution_count": null,
   "id": "54ad8f8b",
   "metadata": {},
   "outputs": [],
   "source": []
  }
 ],
 "metadata": {
  "kernelspec": {
   "display_name": "Python 3 (ipykernel)",
   "language": "python",
   "name": "python3"
  },
  "language_info": {
   "codemirror_mode": {
    "name": "ipython",
    "version": 3
   },
   "file_extension": ".py",
   "mimetype": "text/x-python",
   "name": "python",
   "nbconvert_exporter": "python",
   "pygments_lexer": "ipython3",
   "version": "3.11.5"
  }
 },
 "nbformat": 4,
 "nbformat_minor": 5
}
